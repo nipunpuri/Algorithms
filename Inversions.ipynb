{
 "cells": [
  {
   "cell_type": "code",
   "execution_count": 4,
   "metadata": {
    "collapsed": true
   },
   "outputs": [],
   "source": [
    "def invCountBrute(a):\n",
    "    invCount = 0 \n",
    "    for j in range(0,len(a)):\n",
    "        for i in range(j,len(a)):\n",
    "            if a[i] < a[j]:\n",
    "                invCount+=1\n",
    "                \n",
    "    return(invCount)"
   ]
  },
  {
   "cell_type": "code",
   "execution_count": 10,
   "metadata": {
    "collapsed": false
   },
   "outputs": [
    {
     "name": "stdout",
     "output_type": "stream",
     "text": [
      "3\n",
      "15\n",
      "55\n"
     ]
    },
    {
     "data": {
      "text/plain": [
       "[1]"
      ]
     },
     "execution_count": 10,
     "metadata": {},
     "output_type": "execute_result"
    }
   ],
   "source": [
    "a = [1,3,5,2,4,6]\n",
    "b = [6,5,4,3,2,1]\n",
    "c = [10,9,8,7,6,5,4,3,2,1,0]\n",
    "\n",
    "z = [a,b,c]\n",
    "\n",
    "for i in z:\n",
    "    print(invCountBrute(i))\n",
    "    "
   ]
  },
  {
   "cell_type": "markdown",
   "metadata": {},
   "source": [
    "### Implementation using the merge method which is n log(n)"
   ]
  },
  {
   "cell_type": "code",
   "execution_count": 49,
   "metadata": {
    "collapsed": true
   },
   "outputs": [],
   "source": [
    "def merge(b , c): #b and c are ordered list\n",
    "    splitInversions = 0\n",
    "    bCounter = 0\n",
    "    cCounter = 0 #Counter for both the lists\n",
    "    mergedLst = []\n",
    "    for k in range(0 , len(b) + len(c)):\n",
    "        if bCounter == len(b):\n",
    "            for i in c[cCounter:len(c)]:\n",
    "                mergedLst.append(i)\n",
    "            return((mergedLst , splitInversions))\n",
    "        elif cCounter == len(c):\n",
    "            for j in b[bCounter:len(b)]:\n",
    "                mergedLst.append(j)\n",
    "            return((mergedLst , splitInversions))\n",
    "            \n",
    "        if b[bCounter] <= c[cCounter]:\n",
    "            mergedLst.append(b[bCounter])\n",
    "            bCounter+=1\n",
    "        elif b[bCounter] > c[cCounter]:\n",
    "            mergedLst.append(c[cCounter])\n",
    "            cCounter+=1\n",
    "            splitInversions+=(len(b) - bCounter)\n",
    "            \n",
    "def splitInversion(b,c):\n",
    "    return(merge(b,c)[1])"
   ]
  },
  {
   "cell_type": "code",
   "execution_count": 50,
   "metadata": {
    "collapsed": false
   },
   "outputs": [
    {
     "data": {
      "text/plain": [
       "3"
      ]
     },
     "execution_count": 50,
     "metadata": {},
     "output_type": "execute_result"
    }
   ],
   "source": [
    "b , c = [1,3,5] , [2,4,6]"
   ]
  },
  {
   "cell_type": "code",
   "execution_count": 64,
   "metadata": {
    "collapsed": true
   },
   "outputs": [],
   "source": [
    "def inversion(a):\n",
    "    \n",
    "    if len(a) == 1:\n",
    "        return(0)\n",
    "    else:\n",
    "        midPoint = len(a)//2\n",
    "        firstHalf = a[0:midPoint]\n",
    "        secondHalf = a[midPoint:len(a)]\n",
    "        x = inversion(firstHalf)\n",
    "        y = inversion(secondHalf)\n",
    "        z = splitInversion(firstHalf , secondHalf)\n",
    "    return(x+y+z)"
   ]
  },
  {
   "cell_type": "code",
   "execution_count": 66,
   "metadata": {
    "collapsed": false
   },
   "outputs": [
    {
     "data": {
      "text/plain": [
       "26"
      ]
     },
     "execution_count": 66,
     "metadata": {},
     "output_type": "execute_result"
    }
   ],
   "source": [
    "arr = [1,3,5,2,4,6,7,1,3,0,200,190,10,1]\n",
    "inversion(arr)"
   ]
  }
 ],
 "metadata": {
  "anaconda-cloud": {},
  "kernelspec": {
   "display_name": "Python [Root]",
   "language": "python",
   "name": "Python [Root]"
  },
  "language_info": {
   "codemirror_mode": {
    "name": "ipython",
    "version": 3
   },
   "file_extension": ".py",
   "mimetype": "text/x-python",
   "name": "python",
   "nbconvert_exporter": "python",
   "pygments_lexer": "ipython3",
   "version": "3.5.2"
  }
 },
 "nbformat": 4,
 "nbformat_minor": 0
}
